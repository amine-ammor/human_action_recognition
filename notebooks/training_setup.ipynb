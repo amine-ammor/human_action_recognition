{
 "cells": [
  {
   "cell_type": "code",
   "execution_count": 1,
   "id": "b78a0af5-560c-4ad9-99da-4e3a90ea393f",
   "metadata": {
    "tags": [
     "parameters"
    ]
   },
   "outputs": [],
   "source": [
    "# parameters\n",
    "\n",
    "truncate = None\n",
    "location = '/root/.cache/keypoints'\n",
    "clear_cache = False"
   ]
  },
  {
   "cell_type": "code",
   "execution_count": 2,
   "id": "d2769dfb-f116-4ed2-8e06-e3782a8a7abd",
   "metadata": {
    "tags": [
     "dataset"
    ]
   },
   "outputs": [],
   "source": [
    "import joblib\n",
    "\n",
    "from joblib import Memory\n",
    "memory = Memory(location,verbose=0)\n",
    "if clear_cache:\n",
    "    memory.clear()"
   ]
  },
  {
   "cell_type": "code",
   "execution_count": 4,
   "id": "540197f8-32de-45e6-b7f1-eb837916a06e",
   "metadata": {
    "tags": [
     "dataset"
    ]
   },
   "outputs": [],
   "source": [
    "from pathlib import Path\n",
    "from action_transformer import dataset_mod\n",
    "\n",
    "\n",
    "folder_video_keypoints = \"../data/keypoints/as_arrays\" \n",
    "folder_video_keypoints = str(Path(folder_video_keypoints).resolve())\n",
    "# with respect to the notebook's directory, all the notebooks are launched with respect to their folder's location\n",
    "# using papermill or ploomber engine\n",
    "\n",
    "dataset_mod.VideoKeyPointDataset.memory = memory\n",
    "\n",
    "video_kpt_dataset = dataset_mod.VideoKeyPointDataset(folder_video_keypoints,with_frame_padding=False,truncate=truncate)\n"
   ]
  },
  {
   "cell_type": "code",
   "execution_count": 5,
   "id": "92a9e769-4a04-4ecc-b9c6-cc26e155e76e",
   "metadata": {
    "tags": [
     "dataset"
    ]
   },
   "outputs": [
    {
     "name": "stdout",
     "output_type": "stream",
     "text": [
      "599\n"
     ]
    }
   ],
   "source": [
    "if truncate is not None:\n",
    "    assert len(video_kpt_dataset) == min(truncate,len(video_kpt_dataset.folder_video_keypoints))\n",
    "print(len(video_kpt_dataset))"
   ]
  },
  {
   "cell_type": "code",
   "execution_count": 8,
   "id": "b368347e-35ba-473f-aafb-4ab2918caf69",
   "metadata": {
    "tags": [
     "notebook_call"
    ]
   },
   "outputs": [
    {
     "name": "stderr",
     "output_type": "stream",
     "text": [
      "Executing cell: 8: 100%|██████████████████████████| 9/9 [00:01<00:00,  7.11it/s]\n"
     ]
    }
   ],
   "source": [
    "# fill the cache and print informations about caching in other notebook\n",
    "from ploomber_engine.ipython import PloomberClient\n",
    "path_cache_setup = \"./performance_tests/caching_tests_and_metrics.py\"\n",
    "path_cache_setup = str(Path(path_cache_setup).resolve())\n",
    "\n",
    "import jupytext\n",
    "path_cache_setup_as_notebook = path_cache_setup.replace(\".py\",\".ipynb\")\n",
    "jupytext.write(nb=jupytext.read(path_cache_setup),\n",
    "               fp =path_cache_setup_as_notebook)\n",
    "\n",
    "\n",
    "client = PloomberClient.from_path(path_cache_setup_as_notebook,remove_tagged_cells=\"notebook_call\")\n",
    "namespace = client.get_namespace(dict(video_kpt_dataset=video_kpt_dataset,clear_cache=clear_cache,location=location))\n",
    "import os\n",
    "os.remove(path_cache_setup_as_notebook)"
   ]
  },
  {
   "cell_type": "code",
   "execution_count": 9,
   "id": "543f4df1-84f2-40ab-b14d-10046e6c94c7",
   "metadata": {
    "tags": [
     "dataset"
    ]
   },
   "outputs": [],
   "source": [
    "import numpy as np\n",
    "all_labels = list(np.unique([el[\"class_name\"] for el in video_kpt_dataset]))\n",
    "\n",
    "label_to_idx = {label:idx for (idx,label) in enumerate(all_labels)}\n",
    "\n",
    "transform_labels = lambda label : label_to_idx[label]\n",
    "video_kpt_dataset.with_frame_padding = True\n",
    "video_kpt_dataset.transform_labels = transform_labels\n"
   ]
  },
  {
   "cell_type": "code",
   "execution_count": 47,
   "id": "cf2730c1-2e23-4217-ac3b-6d834882c930",
   "metadata": {
    "tags": [
     "dataloader"
    ]
   },
   "outputs": [],
   "source": [
    "import torch\n",
    "\n",
    "def collatefn(batch):\n",
    "    batch = {k: [dic[k] for dic in batch] for k in batch[0]}\n",
    "    nb_frames,kpts,is_detection_present,classes_idx = batch.values()\n",
    "    max_nb_frames = max(nb_frames) \n",
    "    # we compute the maximum over the batch for some extra computation savings\n",
    "    kpts = torch.tensor(kpts)\n",
    "    kpts = kpts.reshape(kpts.shape[0],kpts.shape[1],-1)\n",
    "    is_detection_present = torch.tensor(is_detection_present)\n",
    "    \n",
    "    kpts = kpts[:,:max_nb_frames]\n",
    "    is_detection_present = is_detection_present[:,:max_nb_frames]\n",
    "    #nb_frames = np.array(nb_frames)\n",
    "    class_names = torch.tensor(classes_idx,dtype=torch.long)\n",
    "    return kpts,is_detection_present,class_names\n",
    "\n",
    "from torch.utils.data import DataLoader\n",
    "\n",
    "video_dataloader = DataLoader(video_kpt_dataset,shuffle=True,collate_fn=collatefn,batch_size=10)"
   ]
  },
  {
   "cell_type": "code",
   "execution_count": 49,
   "id": "73d853a3-7210-4750-ab28-f38bd5cc1f5b",
   "metadata": {
    "tags": [
     "dataloader"
    ]
   },
   "outputs": [
    {
     "data": {
      "text/plain": [
       "True"
      ]
     },
     "execution_count": 49,
     "metadata": {},
     "output_type": "execute_result"
    }
   ],
   "source": [
    "assert type(video_dataloader.sampler) == torch.utils.data.sampler.RandomSampler"
   ]
  },
  {
   "cell_type": "code",
   "execution_count": 50,
   "id": "0593a3fc-1638-4462-9e6d-a36504bd2f0a",
   "metadata": {
    "tags": []
   },
   "outputs": [],
   "source": [
    "#sanity check test\n",
    "#res[0][0].numpy()\n",
    "#video_kpt_dataset[0][0]#res[0][0].numpy()\n",
    "#video_kpt_dataset[0][0]#res[0][0].numpy()\n",
    "#video_kpt_dataset[0][0]\n",
    "unshuffled = False\n",
    "if unshuffled:\n",
    "    loader_iter = iter(d_loader)\n",
    "    res = next(loader_iter)\n",
    "    assert np.all(res[0][0][6].numpy() == video_kpt_dataset[0][0][6])"
   ]
  }
 ],
 "metadata": {
  "kernelspec": {
   "display_name": "Python 3 (ipykernel)",
   "language": "python",
   "name": "python3"
  },
  "language_info": {
   "codemirror_mode": {
    "name": "ipython",
    "version": 3
   },
   "file_extension": ".py",
   "mimetype": "text/x-python",
   "name": "python",
   "nbconvert_exporter": "python",
   "pygments_lexer": "ipython3",
   "version": "3.11.2"
  }
 },
 "nbformat": 4,
 "nbformat_minor": 5
}
