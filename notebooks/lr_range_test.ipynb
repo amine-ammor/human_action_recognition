{
 "cells": [
  {
   "cell_type": "code",
   "execution_count": 1,
   "id": "1113fc1f-e3b6-4cca-ac16-b79ddc5f2a84",
   "metadata": {
    "tags": []
   },
   "outputs": [],
   "source": [
    "batch_size = 32\n",
    "lr = 10**(-4)\n",
    "n_epochs = 30\n",
    "fraction_splits = [0.6,0.4 ]"
   ]
  },
  {
   "cell_type": "code",
   "execution_count": 2,
   "id": "58d28bd7-9582-438e-bc00-68fee3b32a69",
   "metadata": {
    "tags": []
   },
   "outputs": [
    {
     "name": "stdout",
     "output_type": "stream",
     "text": [
      "free gpu memory     : 5.8G\n",
      "allocated gpu memory     : 164.0M\n",
      "free ram 17.7G\n",
      "used ram 3.9G\n"
     ]
    },
    {
     "name": "stderr",
     "output_type": "stream",
     "text": [
      "Executing cell: 4:   0%|                                 | 0/16 [00:00<?, ?it/s]\n",
      "  0%|                                                     | 0/9 [00:00<?, ?it/s]\u001b[A\n",
      "Executing cell: 1:   0%|                                  | 0/9 [00:00<?, ?it/s]\u001b[A\n",
      "Executing cell: 2:   0%|                                  | 0/9 [00:00<?, ?it/s]\u001b[A\n",
      "Executing cell: 3:   0%|                                  | 0/9 [00:00<?, ?it/s]\u001b[A\n",
      "Executing cell: 3:  44%|###########5              | 4/9 [00:00<00:00,  6.66it/s]\u001b[A\n",
      "Executing cell: 4:  44%|###########5              | 4/9 [00:00<00:00,  6.66it/s]\u001b[A\n",
      "Executing cell: 5:  44%|###########5              | 4/9 [00:00<00:00,  6.66it/s]\u001b[A\n",
      "Executing cell: 6:  44%|###########5              | 4/9 [00:00<00:00,  6.66it/s]\u001b[A\n",
      "Executing cell: 6:  78%|####################2     | 7/9 [00:00<00:00,  8.43it/s]\u001b[A\n",
      "Executing cell: 7:  78%|####################2     | 7/9 [00:00<00:00,  8.43it/s]\u001b[A\n",
      "Executing cell: 7:  89%|#######################1  | 8/9 [00:01<00:00,  4.33it/s]\u001b[A\n",
      "Executing cell: 8: 100%|##########################| 9/9 [00:01<00:00,  5.78it/s]\u001b[A\n",
      "Executing cell: 8:  38%|█████████▍               | 6/16 [00:02<00:03,  2.98it/s]<ipython-input-1-9e3b603a6402>:14: UserWarning: Creating a tensor from a list of numpy.ndarrays is extremely slow. Please consider converting the list to a single numpy.ndarray with numpy.array() before converting to a tensor. (Triggered internally at ../torch/csrc/utils/tensor_new.cpp:245.)\n",
      "  kpts = torch.tensor(kpts)\n",
      "<ipython-input-1-9e3b603a6402>:18: DeprecationWarning: In future, it will be an error for 'np.bool_' scalars to be interpreted as an index\n",
      "  is_detection_present = torch.tensor(is_detection_present)\n",
      "Executing cell: 16: 100%|███████████████████████| 16/16 [00:04<00:00,  3.33it/s]"
     ]
    },
    {
     "name": "stdout",
     "output_type": "stream",
     "text": [
      "/tmp/tmp28q7b3q_/training_setup.ipynb\n",
      "free gpu memory     : 5.4G\n",
      "allocated gpu memory     : 632.2M\n",
      "free ram 16.7G\n",
      "used ram 4.8G\n"
     ]
    },
    {
     "name": "stderr",
     "output_type": "stream",
     "text": [
      "\n"
     ]
    }
   ],
   "source": [
    "# fill the cache and print informations about caching in other notebook\n",
    "from pathlib import Path\n",
    "from ploomber_engine.ipython import PloomberClient\n",
    "\n",
    "path_training_setup = \"./training_setup.py\"\n",
    "\n",
    "import utils_notebook\n",
    "import psutil\n",
    "from tqdm import tqdm\n",
    "with utils_notebook.NotebookPyExecutor(path_training_setup,remove_tagged_cells=\"parameters\",\n",
    "                                      truncate = None,location = '/root/.cache/keypoints',\n",
    "                                       clear_cache = False,batch_size=batch_size,\n",
    "                                       fraction_splits = fraction_splits,lr=lr) as nb_exec:\n",
    "    trainer = nb_exec.namespace[\"trainer\"]\n",
    "    validator = nb_exec.namespace[\"validator\"]\n",
    "\n",
    "    train_video_dataloader = nb_exec.namespace[\"train_video_dataloader\"]\n",
    "    val_video_dataloader = nb_exec.namespace[\"val_video_dataloader\"]\n",
    "    print(nb_exec.path_training_setup_as_notebook)\n",
    "    assert Path(nb_exec.path_training_setup_as_notebook).exists()"
   ]
  },
  {
   "cell_type": "code",
   "execution_count": 8,
   "id": "5ebffaf8-437a-4342-aa20-4a30e76c82d0",
   "metadata": {
    "tags": []
   },
   "outputs": [
    {
     "data": {
      "text/plain": [
       "(1.1376272858234309, 1e-09)"
      ]
     },
     "execution_count": 8,
     "metadata": {},
     "output_type": "execute_result"
    }
   ],
   "source": [
    "import numpy as np\n",
    "nb_iter_per_lr = 4\n",
    "total_nb_iter = 500\n",
    "\n",
    "nb_lr_change = int(total_nb_iter/nb_iter_per_lr)\n",
    "max_val = 10**(-2.0)\n",
    "min_val = 10**(-9)\n",
    "gamma = np.exp(np.log(max_val/min_val)/(total_nb_iter/nb_iter_per_lr))\n",
    "\n",
    "state_dict = trainer.optimizer.state_dict()\n",
    "state_dict[\"param_groups\"][0][\"lr\"] = min_val\n",
    "trainer.optimizer.load_state_dict(state_dict)\n",
    "\n",
    "gamma,trainer.optimizer.state_dict()[\"param_groups\"][0][\"lr\"]"
   ]
  },
  {
   "cell_type": "code",
   "execution_count": 11,
   "id": "ed746962-8aea-420a-971c-60d451961396",
   "metadata": {
    "tags": []
   },
   "outputs": [
    {
     "name": "stdout",
     "output_type": "stream",
     "text": [
      "runs/lr_range_test\n"
     ]
    }
   ],
   "source": [
    "from torch.utils.tensorboard import SummaryWriter\n",
    "\n",
    "import datetime\n",
    "now = datetime.datetime.now()\n",
    "experiment_time = now.strftime('%Y-%m-%dT%H:%M:%S') + ('-%02d' % (now.microsecond / 10000))\n",
    "writer = SummaryWriter(f\"runs/lr_range_test\")#+{experiment_time}\")\n",
    "print(writer.log_dir)"
   ]
  },
  {
   "cell_type": "code",
   "execution_count": 12,
   "id": "19f5691f-9f9e-42e5-90d2-5b0f64a16c4c",
   "metadata": {
    "tags": []
   },
   "outputs": [
    {
     "name": "stdout",
     "output_type": "stream",
     "text": [
      "value for metric accuracy is :  0.1875\n",
      "value for metric loss is :  0.05946123227477074\n"
     ]
    },
    {
     "ename": "KeyboardInterrupt",
     "evalue": "",
     "output_type": "error",
     "traceback": [
      "\u001b[0;31m---------------------------------------------------------------------------\u001b[0m",
      "\u001b[0;31mKeyboardInterrupt\u001b[0m                         Traceback (most recent call last)",
      "File \u001b[0;32m/tmp/ipykernel_31513/1297507563.py:6\u001b[0m\n\u001b[1;32m      4\u001b[0m \u001b[38;5;28;01mfor\u001b[39;00m i \u001b[38;5;129;01min\u001b[39;00m \u001b[38;5;28mrange\u001b[39m(nb_lr_change):\n\u001b[1;32m      5\u001b[0m     \u001b[38;5;28;01mfor\u001b[39;00m j \u001b[38;5;129;01min\u001b[39;00m \u001b[38;5;28mrange\u001b[39m(nb_iter_per_lr):\n\u001b[0;32m----> 6\u001b[0m         train_metrics_vals \u001b[38;5;241m=\u001b[39m \u001b[43mtrainer\u001b[49m\u001b[38;5;241;43m.\u001b[39;49m\u001b[43miterate_on_epoch\u001b[49m\u001b[43m(\u001b[49m\u001b[43m)\u001b[49m\n\u001b[1;32m      8\u001b[0m         writer\u001b[38;5;241m.\u001b[39madd_scalars(\u001b[38;5;124m\"\u001b[39m\u001b[38;5;124mLRRangetest\u001b[39m\u001b[38;5;124m\"\u001b[39m,\n\u001b[1;32m      9\u001b[0m                            {\u001b[38;5;124m\"\u001b[39m\u001b[38;5;124mloss\u001b[39m\u001b[38;5;124m\"\u001b[39m:\u001b[38;5;28mfloat\u001b[39m(train_metrics_vals[\u001b[38;5;124m\"\u001b[39m\u001b[38;5;124mloss\u001b[39m\u001b[38;5;124m\"\u001b[39m]),\n\u001b[1;32m     10\u001b[0m                            \u001b[38;5;124m\"\u001b[39m\u001b[38;5;124mlr\u001b[39m\u001b[38;5;124m\"\u001b[39m:scheduler\u001b[38;5;241m.\u001b[39mget_last_lr()[\u001b[38;5;241m0\u001b[39m]}\n\u001b[1;32m     11\u001b[0m                            ,nb_iter_per_lr\u001b[38;5;241m*\u001b[39mi\u001b[38;5;241m+\u001b[39mj)\n",
      "File \u001b[0;32m~/human_action_recognition/src/action_transformer/model_handling/model_handler_mod.py:117\u001b[0m, in \u001b[0;36mModelHandler.iterate_on_epoch\u001b[0;34m(self)\u001b[0m\n\u001b[1;32m    115\u001b[0m \u001b[38;5;28;01mfor\u001b[39;00m batch_idx,batch \u001b[38;5;129;01min\u001b[39;00m \u001b[38;5;28menumerate\u001b[39m(\u001b[38;5;28mself\u001b[39m\u001b[38;5;241m.\u001b[39mdata_loader):\n\u001b[1;32m    116\u001b[0m     loss,out_model \u001b[38;5;241m=\u001b[39m \u001b[38;5;28mself\u001b[39m\u001b[38;5;241m.\u001b[39miterate_on_batch(batch)\n\u001b[0;32m--> 117\u001b[0m     losses\u001b[38;5;241m.\u001b[39mappend(\u001b[38;5;28mfloat\u001b[39m(loss))\n\u001b[1;32m    118\u001b[0m     \u001b[38;5;66;03m# updating the streaming metrics\u001b[39;00m\n\u001b[1;32m    120\u001b[0m     preds \u001b[38;5;241m=\u001b[39m \u001b[38;5;28mself\u001b[39m\u001b[38;5;241m.\u001b[39mextract_predictions(out_model,batch)\n",
      "\u001b[0;31mKeyboardInterrupt\u001b[0m: "
     ]
    }
   ],
   "source": [
    "from torch.optim import lr_scheduler\n",
    "\n",
    "scheduler = lr_scheduler.ExponentialLR(trainer.optimizer,gamma=gamma)\n",
    "for train_batch,val_batch in zip(train_video_dataloader,val_video_dataloader):\n",
    "    train_metrics_vals = trainer.iterate_on_batch(train_batch)\n",
    "    val_metrics_vals = validator.iterate_on_batch(val_batch)\n",
    "    writer.add_scalars(\"LRRangetest\",\n",
    "                           {\"loss\":float(train_metrics_vals[\"loss\"]),\n",
    "                           \"lr\":scheduler.get_last_lr()[0]}\n",
    "                           ,nb_iter_per_lr*i+j)\n",
    "        "
   ]
  },
  {
   "cell_type": "code",
   "execution_count": null,
   "id": "467ed2e2-5229-4137-bc17-2b48d82428b2",
   "metadata": {},
   "outputs": [],
   "source": []
  }
 ],
 "metadata": {
  "kernelspec": {
   "display_name": "Python 3 (ipykernel)",
   "language": "python",
   "name": "python3"
  },
  "language_info": {
   "codemirror_mode": {
    "name": "ipython",
    "version": 3
   },
   "file_extension": ".py",
   "mimetype": "text/x-python",
   "name": "python",
   "nbconvert_exporter": "python",
   "pygments_lexer": "ipython3",
   "version": "3.11.2"
  }
 },
 "nbformat": 4,
 "nbformat_minor": 5
}
