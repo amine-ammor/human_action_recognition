{
 "cells": [
  {
   "cell_type": "code",
   "execution_count": 1,
   "id": "9a10ceaf-bc17-4524-ad5d-6d8e15845b8a",
   "metadata": {
    "tags": [
     "parameters"
    ]
   },
   "outputs": [],
   "source": [
    "# parameters\n",
    "path_video_input = \"../data/inputs/kth_dataset/handclapping/person03_handclapping_d2_uncomp.avi\"\n",
    "path_video_output = \"../data/keypoints/on_videos/kth_dataset/handclapping/person03_handclapping_d2_uncomp_out.mp4\""
   ]
  },
  {
   "cell_type": "code",
   "execution_count": 2,
   "id": "a18dddc2-a3f4-41e6-83e1-b1ac9da41765",
   "metadata": {
    "tags": []
   },
   "outputs": [],
   "source": [
    "#new_path = path_video_input.replace((\"inputs\",\"keypoints/on_videos\"))\n",
    "from pathlib import Path\n",
    "assert Path(path_video_input).exists()\n",
    "Path(path_video_output).parent.mkdir(exist_ok=True,parents=True)"
   ]
  },
  {
   "cell_type": "code",
   "execution_count": 3,
   "id": "6a481beb-6f35-40dc-9935-7fe910054764",
   "metadata": {
    "tags": []
   },
   "outputs": [],
   "source": [
    "#new_path = path_video_input.replace((\"inputs\",\"keypoints/on_videos\"))\n",
    "from pathlib import Path\n",
    "suffix = Path(path_video_input).suffix\n",
    "path_keypoint_output = path_video_input.replace(\"inputs\",\"keypoints/as_arrays\").replace(\n",
    "    suffix,\"_out\"+\".npz\")\n",
    "Path(path_keypoint_output).parent.mkdir(exist_ok=True,parents=True)"
   ]
  },
  {
   "cell_type": "code",
   "execution_count": 4,
   "id": "2f45c702-544b-4883-8e9b-939d18ae6480",
   "metadata": {
    "tags": []
   },
   "outputs": [],
   "source": [
    "# charging gpu if available\n",
    "import numpy as np,torch\n",
    "device = \"cuda\" if torch.cuda.is_available() else \"cpu\"\n"
   ]
  },
  {
   "cell_type": "code",
   "execution_count": 5,
   "id": "d3a95f21-3093-485c-8dcb-47dc0093644f",
   "metadata": {
    "tags": []
   },
   "outputs": [],
   "source": [
    "#loading model\n",
    "from models import keypoint_detector_mod\n",
    "keypoint_detector = keypoint_detector_mod.KeyPointDetector(device,0.0)"
   ]
  },
  {
   "cell_type": "code",
   "execution_count": 7,
   "id": "a4253abf-8bc1-4aba-8002-d2a3f475b54a",
   "metadata": {
    "tags": []
   },
   "outputs": [
    {
     "name": "stdout",
     "output_type": "stream",
     "text": [
      "skipping ../data/inputs/kth_dataset/handclapping/person03_handclapping_d2_uncomp.avi as it was already processed\n"
     ]
    }
   ],
   "source": [
    "already_processed = Path(path_video_output).exists() and  Path(path_keypoint_output).exists()\n",
    "if not(already_processed):\n",
    "    import video\n",
    "    import time\n",
    "    start = time.time()\n",
    "    video_handler = video.VideoHandler(path_video_input,truncate=None,batch_size=10)\n",
    "    kpt_detection = keypoint_detector.predict_on_whole_video(video_handler)\n",
    "    video_handler.write(path_video_output)\n",
    "    stop = time.time()\n",
    "    print(stop-start)\n",
    "else:\n",
    "    print(f\"skipping {str(path_video_input)} as it was already processed\")"
   ]
  },
  {
   "cell_type": "code",
   "execution_count": 8,
   "id": "6318433e-1576-4396-bb84-94803a4573d6",
   "metadata": {
    "tags": []
   },
   "outputs": [],
   "source": [
    "if not(already_processed):\n",
    "    import keypoints_io\n",
    "    keypoints_io.save(path_keypoint_output,kpt_detection)"
   ]
  },
  {
   "cell_type": "code",
   "execution_count": 9,
   "id": "f1cb3d2b-480c-4ad1-8066-1d184257287f",
   "metadata": {
    "tags": []
   },
   "outputs": [],
   "source": [
    "if not(already_processed):\n",
    "    for i in range(2):\n",
    "        assert all([np.all(el1==el2) \n",
    "            for el1,el2 in zip(keypoints_io.load(path_keypoint_output)[i], kpt_detection[i])])"
   ]
  },
  {
   "cell_type": "code",
   "execution_count": null,
   "id": "71a18dad-4c9a-4ea2-abd0-1d3071bc112d",
   "metadata": {},
   "outputs": [],
   "source": [
    "if not(already_processed):\n",
    "    del kpt_detection,video_handler\n",
    "del keypoint_detector"
   ]
  }
 ],
 "metadata": {
  "kernelspec": {
   "display_name": "Python 3 (ipykernel)",
   "language": "python",
   "name": "python3"
  },
  "language_info": {
   "codemirror_mode": {
    "name": "ipython",
    "version": 3
   },
   "file_extension": ".py",
   "mimetype": "text/x-python",
   "name": "python",
   "nbconvert_exporter": "python",
   "pygments_lexer": "ipython3",
   "version": "3.11.2"
  }
 },
 "nbformat": 4,
 "nbformat_minor": 5
}
