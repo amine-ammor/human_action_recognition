{
 "cells": [
  {
   "cell_type": "markdown",
   "id": "7845af2d-d891-4305-b4a6-5a7b877bb775",
   "metadata": {
    "tags": []
   },
   "source": [
    "### caching of the dataset computation along with some interesting metrics"
   ]
  },
  {
   "cell_type": "code",
   "execution_count": 1,
   "id": "0674fdd5-9224-4c9c-bd96-2ff584507231",
   "metadata": {
    "tags": [
     "parameters"
    ]
   },
   "outputs": [],
   "source": [
    "# parameters\n",
    "\n",
    "truncate = 10\n",
    "clear_cache = True"
   ]
  },
  {
   "cell_type": "code",
   "execution_count": 2,
   "id": "137dd25c-9664-4f88-a668-2041b6f3a68b",
   "metadata": {
    "tags": [
     "notebook_call"
    ]
   },
   "outputs": [
    {
     "name": "stderr",
     "output_type": "stream",
     "text": [
      "Executing cell: 1:   0%|                                  | 0/8 [00:00<?, ?it/s]WARNING:root:[Memory(location=/root/.cache/keypoints/joblib)]: Flushing completely the cache\n",
      "Executing cell: 8: 100%|██████████████████████████| 8/8 [00:02<00:00,  3.32it/s]\n"
     ]
    }
   ],
   "source": [
    "from ploomber_engine.ipython import PloomberClient\n",
    "\n",
    "path_training_setup = \"../training_setup.ipynb\"\n",
    "client = PloomberClient.from_path(path_training_setup,\n",
    "                                  cwd=\"../\",\n",
    "                                  remove_tagged_cells=[\"parameters\",\"notebook_call\",\"dataloader\"])\n",
    "namespace_client = client.get_namespace(dict(truncate=30,clear_cache=True))\n",
    "for el in [\"video_kpt_dataset\",\"truncate\"]:\n",
    "    globals()[el] = namespace_client[el]"
   ]
  },
  {
   "cell_type": "code",
   "execution_count": 3,
   "id": "f30f1cc7-55cb-4fdd-ad9d-09c56622fe85",
   "metadata": {
    "tags": []
   },
   "outputs": [
    {
     "name": "stdout",
     "output_type": "stream",
     "text": [
      "76K\t/root/.cache/keypoints/joblib/\n"
     ]
    }
   ],
   "source": [
    "#memory before caching\n",
    "!du -sh \"/root/.cache/keypoints/joblib/\" "
   ]
  },
  {
   "cell_type": "code",
   "execution_count": 4,
   "id": "afe70d25-a3cc-4976-b29a-a162a02666e6",
   "metadata": {},
   "outputs": [
    {
     "name": "stdout",
     "output_type": "stream",
     "text": [
      "6.503345251083374\n",
      "0.012499094009399414\n"
     ]
    }
   ],
   "source": [
    "for _ in range(2):\n",
    "    import time\n",
    "    start= time.time()\n",
    "    video_kpt_dataset.with_frame_padding = False\n",
    "    [el for el in video_kpt_dataset]\n",
    "    stop = time.time()\n",
    "    stop-start\n",
    "    print(stop-start)"
   ]
  },
  {
   "cell_type": "code",
   "execution_count": 5,
   "id": "b9127c1f-ddf9-43a3-b606-6572eea8505d",
   "metadata": {},
   "outputs": [
    {
     "name": "stdout",
     "output_type": "stream",
     "text": [
      "2.1M\t/root/.cache/keypoints/joblib/\n"
     ]
    }
   ],
   "source": [
    "#memory after caching the keypoints\n",
    "!du -sh \"/root/.cache/keypoints/joblib/\" "
   ]
  },
  {
   "cell_type": "code",
   "execution_count": 6,
   "id": "be3e06f9-8a7d-4d1f-b447-053f67d68b26",
   "metadata": {},
   "outputs": [],
   "source": [
    "res = video_kpt_dataset.number_of_frames,video_kpt_dataset.max_number_of_frames"
   ]
  },
  {
   "cell_type": "code",
   "execution_count": 7,
   "id": "cf44efcb-9024-432d-8979-6666018fa641",
   "metadata": {},
   "outputs": [
    {
     "name": "stdout",
     "output_type": "stream",
     "text": [
      "5.507106304168701\n",
      "0.01142430305480957\n"
     ]
    }
   ],
   "source": [
    "for _ in range(2):\n",
    "    import time\n",
    "    start= time.time()\n",
    "    video_kpt_dataset.with_frame_padding = True\n",
    "    [el for el in video_kpt_dataset]\n",
    "    stop = time.time()\n",
    "    print(stop-start)"
   ]
  },
  {
   "cell_type": "code",
   "execution_count": 8,
   "id": "b51d4517-67fb-43a3-a0f0-9c293d911e31",
   "metadata": {},
   "outputs": [
    {
     "name": "stdout",
     "output_type": "stream",
     "text": [
      "6.6M\t/root/.cache/keypoints/joblib\n"
     ]
    }
   ],
   "source": [
    "#memory after caching the keypoints along with padding\n",
    "!du -sh \"/root/.cache/keypoints/joblib\" "
   ]
  },
  {
   "cell_type": "code",
   "execution_count": 16,
   "id": "ed782ec3-96eb-421b-8752-10950f61edda",
   "metadata": {
    "tags": []
   },
   "outputs": [],
   "source": [
    "number_frames,kpts,is_detection_present = video_kpt_dataset[3].values()\n"
   ]
  }
 ],
 "metadata": {
  "kernelspec": {
   "display_name": "Python 3 (ipykernel)",
   "language": "python",
   "name": "python3"
  },
  "language_info": {
   "codemirror_mode": {
    "name": "ipython",
    "version": 3
   },
   "file_extension": ".py",
   "mimetype": "text/x-python",
   "name": "python",
   "nbconvert_exporter": "python",
   "pygments_lexer": "ipython3",
   "version": "3.11.2"
  }
 },
 "nbformat": 4,
 "nbformat_minor": 5
}
